{
 "cells": [
  {
   "cell_type": "code",
   "execution_count": 9,
   "metadata": {},
   "outputs": [],
   "source": [
    "import os \n",
    "import pandas as pd\n",
    "from collections import Counter\n",
    "import numpy as np\n",
    "from nltk.corpus import stopwords\n",
    "from nltk.stem import *\n",
    "stemmer = PorterStemmer()"
   ]
  },
  {
   "cell_type": "code",
   "execution_count": 10,
   "metadata": {},
   "outputs": [],
   "source": [
    "def stem(data):\n",
    "    \n",
    "    new = {}\n",
    "    for k,v in data.items():\n",
    "        new[k] = stemmer.stem(k)\n",
    "    for old,new in new.items():\n",
    "        data[new] = data.pop(old) \n",
    "        \n",
    "    return data"
   ]
  },
  {
   "cell_type": "code",
   "execution_count": 11,
   "metadata": {},
   "outputs": [],
   "source": [
    "def condProb(data,total_spam,total_ham,nof_spam,nof_ham):\n",
    "    \n",
    "    n = len(data)\n",
    "    #print(n)\n",
    "    for word in data.keys():\n",
    "        #cond_spam  = (data[word][0]+1)/(total_spam-data[word][0] + n -1)\n",
    "        #cond_ham   = (data[word][1]+1)/(total_ham-data[word][1] + n -1)\n",
    "        cond_spam = (data[word][0]+1)/(total_spam+ n*1)\n",
    "        cond_ham = (data[word][1]+1)/(total_ham + n*1)\n",
    "        data[word] = data[word] + [cond_spam,cond_ham]\n",
    "    #print(nof_spam)\n",
    "    #print(nof_ham)\n",
    "    prior_spam = nof_spam / (nof_spam+nof_ham)\n",
    "    prior_ham = nof_ham / (nof_spam+nof_ham)\n",
    "    #print(prior_spam)\n",
    "    \n",
    "    return data,prior_spam,prior_ham"
   ]
  },
  {
   "cell_type": "code",
   "execution_count": 12,
   "metadata": {},
   "outputs": [],
   "source": [
    "def train():\n",
    "    data = {}\n",
    "    total_spam = 0\n",
    "    total_ham = 0\n",
    "    nof_spam = 0\n",
    "    nof_ham = 0\n",
    "    \n",
    "    for filename in os.listdir(\".\\ham_train\"):\n",
    "        file = open('.\\ham_train' + '\\\\' + filename, errors='ignore')\n",
    "        wordcount = Counter(file.read().split())\n",
    "        for item in wordcount.items():\n",
    "            if item[0] in data:\n",
    "                data[item[0]][1] += item[1]\n",
    "            else:\n",
    "                data[item[0]] = [0,item[1]]\n",
    "            total_ham += item[1]\n",
    "        nof_ham += 1\n",
    "\n",
    "    for filename in os.listdir('.\\spam_train'):\n",
    "        file = open('.\\spam_train'+'\\\\' +filename,errors='ignore')\n",
    "        wordcount = Counter(file.read().split())\n",
    "        for item in wordcount.items():\n",
    "            if item[0] in data:\n",
    "                 data[item[0]][0] += item[1]\n",
    "            else:\n",
    "                data[item[0]] = [item[1],0]\n",
    "            total_spam += item[1]\n",
    "        nof_spam += 1\n",
    "    #print(nof_spam)\n",
    "    data = stem(data)\n",
    "    data_new,ps,ph = condProb(data,total_spam,total_ham,nof_spam,nof_ham)\n",
    "    return data_new,ps,ph\n",
    "    \n"
   ]
  },
  {
   "cell_type": "code",
   "execution_count": 72,
   "metadata": {},
   "outputs": [],
   "source": [
    "def predict(text,d1,prior_spam,prior_ham):\n",
    "    file = open(text,errors=\"ignore\")\n",
    "    wordcount = Counter(file.read().split())\n",
    "    #print(wordcount.items())\n",
    "    \"\"\"\n",
    "    l = []\n",
    "    stop_words = set(stopwords.words('english'))\n",
    "    for k in wordcount:\n",
    "        #print(k)\n",
    "        if k in stop_words:\n",
    "            l.append(k)\n",
    "    #print(l)\n",
    "    for k in l:\n",
    "        del wordcount[k]\"\"\"\n",
    "        \n",
    "    #print(wordcount)\n",
    "    \n",
    "    spam_score = np.log(prior_spam)\n",
    "    ham_score = np.log(prior_ham)\n",
    "    for item in wordcount.items():\n",
    "        #print(item)\n",
    "        text = item[0]\n",
    "        \n",
    "        count= item[1]\n",
    "        #print(count)\n",
    "        if text in d1:\n",
    "            spam_score += np.log(d1[text][2])*count\n",
    "            ham_score += np.log(d1[text][3])*count\n",
    "\n",
    "    if spam_score>=ham_score:\n",
    "        return \"spam\"\n",
    "    else:\n",
    "        return \"ham\""
   ]
  },
  {
   "cell_type": "code",
   "execution_count": 69,
   "metadata": {},
   "outputs": [],
   "source": [
    "\n",
    "def accuracy(d1,prior_spam,prior_ham):\n",
    "    tp = 0\n",
    "    tn = 0 \n",
    "    fp = 0\n",
    "    fn = 0\n",
    "    path1 = r\".\\ham_train\"\n",
    "    for filename in os.listdir(path1):\n",
    "        x = predict(path1 + \"//\" + filename,d1,prior_spam,prior_ham)\n",
    "        if x== \"spam\":\n",
    "            fn += 1\n",
    "        if x == \"ham\":\n",
    "            tp += 1\n",
    "        \n",
    "    path2 = r\".\\spam_train\"\n",
    "    for filename in os.listdir(path2):\n",
    "        x = predict(path2 + \"//\" + filename,d1,prior_spam,prior_ham)\n",
    "        if x == \"spam\":\n",
    "            tn += 1\n",
    "        if x == \"ham\":\n",
    "            fp += 1\n",
    "\n",
    "    accuracy = (tp+tn)/(tp+tn+fp+fn)\n",
    "    f = open(\"results.txt\",\"a\")\n",
    "    f.write(\"The accuracy is %.4f\\n\" %accuracy)\n",
    "    f.close()\n",
    "    \n",
    "    return accuracy\n",
    "\n"
   ]
  },
  {
   "cell_type": "code",
   "execution_count": 70,
   "metadata": {},
   "outputs": [],
   "source": [
    "def main():\n",
    "    c=0\n",
    "    d1,prior_spam,prior_ham = train()\n",
    "    acc = accuracy(d1,prior_spam,prior_ham)\n",
    "    \n",
    "    "
   ]
  },
  {
   "cell_type": "code",
   "execution_count": 71,
   "metadata": {},
   "outputs": [],
   "source": [
    "if __name__ == \"__main__\":\n",
    "    main()"
   ]
  }
 ],
 "metadata": {
  "kernelspec": {
   "display_name": "Python 3",
   "language": "python",
   "name": "python3"
  },
  "language_info": {
   "codemirror_mode": {
    "name": "ipython",
    "version": 3
   },
   "file_extension": ".py",
   "mimetype": "text/x-python",
   "name": "python",
   "nbconvert_exporter": "python",
   "pygments_lexer": "ipython3",
   "version": "3.6.3"
  }
 },
 "nbformat": 4,
 "nbformat_minor": 2
}
